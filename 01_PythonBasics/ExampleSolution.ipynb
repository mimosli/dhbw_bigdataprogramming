{
 "cells": [
  {
   "cell_type": "markdown",
   "metadata": {},
   "source": [
    "## Exercise 1: Tuples\n",
    "\n",
    "1. Find out the position of a letter in the alphabet (e.g. a=1, z=26)?\n",
    "\n",
    "Hint: ord() function returns the Unicode code point for a one-character string\n",
    "\n",
    "Hint: chr() function returns a Unicode string of one character with ordinal i for 0<= i <= 0x10ffff."
   ]
  },
  {
   "cell_type": "code",
   "execution_count": 1,
   "metadata": {},
   "outputs": [
    {
     "name": "stdout",
     "output_type": "stream",
     "text": [
      "'a' is at position 1\n",
      "'c' is at position 3\n",
      "'z' is at position 26\n"
     ]
    }
   ],
   "source": [
    "# first letter in alphabet\n",
    "start = ord('a')\n",
    "\n",
    "# create an array of tuples. Each tuple consists of a letter and its position\n",
    "# e.g. ('a', 1)\n",
    "arrayOfTuples = [(chr(x+start), x + 1) for x in range(0, 26)]\n",
    "\n",
    "# define lookup dict from the array\n",
    "alphaDict = dict(arrayOfTuples)\n",
    "\n",
    "# test it with letter a, c and z\n",
    "print(\"'a' is at position\", alphaDict[\"a\"]) # should print 1\n",
    "print(\"'c' is at position\", alphaDict[\"c\"]) # should print 3\n",
    "print(\"'z' is at position\", alphaDict[\"z\"]) # should print 26\n"
   ]
  },
  {
   "cell_type": "markdown",
   "metadata": {},
   "source": [
    "## Exercise 2: String\n",
    "\n",
    "x = “Welcome to TVD!”\n",
    "\n",
    "1. Locate “T” in x and then print “TV” out of x\n",
    "1. Print “!” out of x\n",
    "1. Get the length of the string\n",
    "1. Replace “TVD” with “Trivadis” in x and assign it to a new variable!!!\n",
    "1. Is it possible to do x+ 2020?\n",
    "1. How to rewrite x so that we can format it afterwards with the year number? (example: “Welcome to TVD 2020!”)"
   ]
  },
  {
   "cell_type": "code",
   "execution_count": 3,
   "metadata": {},
   "outputs": [
    {
     "name": "stdout",
     "output_type": "stream",
     "text": [
      "TV\n",
      "!\n",
      "15\n",
      "Welcome to Trivadis!\n",
      "Welcome to TVD 2020!\n"
     ]
    }
   ],
   "source": [
    "x = \"Welcome to TVD!\"\n",
    "\n",
    "# Locate “T” in x and then print “TV” out of x\n",
    "pos = x.find(\"T\")\n",
    "print(x[pos:pos+2])\n",
    "\n",
    "# Print “!” out of x\n",
    "print(x[-1])\n",
    "\n",
    "# Get the length of the string\n",
    "print(len(x))\n",
    "\n",
    "# Replace “TVD” with “Trivadis” in x and assign it to a new variable!!!\n",
    "y = x.replace(\"TVD\", \"Trivadis\")\n",
    "print(y)\n",
    "\n",
    "# Is it possible to do x+ 2020?\n",
    "# --> no, it isn't\n",
    "\n",
    "# How to rewrite x so that we can format it afterwards with the year number? \n",
    "# (example: “Welcome to TVD 2020!”)\n",
    "x = \"Welcome to TVD {0}!\"\n",
    "\n",
    "print(x.format(2020))\n"
   ]
  },
  {
   "cell_type": "markdown",
   "metadata": {},
   "source": [
    "## Exercise 3: openSenseMap\n",
    "\n",
    "1. Go to https://opensensemap.org/ and read the introduction for the sensor-api: https://docs.opensensemap.org/\n",
    "1. Read the last temperature value of a sensor (e.g. the one nearest to you) and print the temperature on the console (code can be written in jupyter or on a local Python environment)\n",
    "1. Read the data every minute and print the result on the console"
   ]
  },
  {
   "cell_type": "markdown",
   "metadata": {},
   "source": [
    "### 1. Go to  https://opensensemap.org/ and read the introduction for the sensor-api: https://docs.opensensemap.org/\n",
    "\n",
    "Link for documentation: https://docs.opensensemap.org/\n",
    "\n",
    "Documentation of the routes and methods \n",
    "- stations: called boxes or senseBoxes\n",
    "- measurements in the openSenseMap API\n",
    "\n",
    "get request: https://api.opensensemap.org/boxes/:senseBoxId?format=:format\n",
    "\n",
    "format: json or geojson\n",
    "senseBoxId: id of sensor\n",
    "\n",
    "in our example we use format=json & senseBoxId=5e4867a7de18a5001c419a45"
   ]
  },
  {
   "cell_type": "markdown",
   "metadata": {},
   "source": [
    "### 2. Read the last temperature value of a sensor"
   ]
  },
  {
   "cell_type": "code",
   "execution_count": 5,
   "metadata": {},
   "outputs": [
    {
     "name": "stdout",
     "output_type": "stream",
     "text": [
      "last temperature measured was 15.56°C at 08:33:06 on 11.06.2020\n"
     ]
    }
   ],
   "source": [
    "# Read the last temperature value of a sensor (e.g. the one nearest to you) \n",
    "# and print the temperature on the console\n",
    "\n",
    "# imports\n",
    "import requests\n",
    "import json\n",
    "import time\n",
    "import datetime\n",
    "\n",
    "def getTempAndUnit():\n",
    "    url = \"https://api.opensensemap.org/boxes/5e4867a7de18a5001c419a45?format=json\"\n",
    "    \n",
    "    # make http get request and store response\n",
    "    r = requests.get(url) \n",
    "    \n",
    "    # convert response to a json object\n",
    "    fullResponse = json.loads(r.content)\n",
    "    \n",
    "    # get temperature sensor (index=2)\n",
    "    temperatureSensorData = fullResponse['sensors'][2]\n",
    "    unit = temperatureSensorData['unit']\n",
    "    lastMeas = temperatureSensorData['lastMeasurement']\n",
    "    timeString = lastMeas['createdAt']\n",
    "    temp = lastMeas['value']\n",
    "    \n",
    "    return (temp, unit, timeString)\n",
    "\n",
    "\n",
    "def printTemperature():\n",
    "    # get last measurement data and unpack tuple\n",
    "    temp, unit, timeString = getTempAndUnit()\n",
    "    \n",
    "    # convert timeString into real date object\n",
    "    date = datetime.datetime.strptime(timeString, '%Y-%m-%dT%H:%M:%S.%f%z')\n",
    "\n",
    "    # reformat date / time\n",
    "    dateFormatted = date.strftime(\"%H:%M:%S on %d.%m.%Y\")\n",
    "    \n",
    "    # print result\n",
    "    print(\"last temperature measured was\", temp + unit, \n",
    "                  \"at\", dateFormatted)\n",
    "\n",
    "# call the defined function\n",
    "printTemperature()"
   ]
  },
  {
   "cell_type": "markdown",
   "metadata": {},
   "source": [
    "### 3. Read the data every minute and print the result on the console"
   ]
  },
  {
   "cell_type": "code",
   "execution_count": null,
   "metadata": {},
   "outputs": [
    {
     "name": "stdout",
     "output_type": "stream",
     "text": [
      "last temperature measured was 15.56°C at 08:33:06 on 11.06.2020\n",
      "last temperature measured was 15.56°C at 08:33:06 on 11.06.2020\n",
      "last temperature measured was 15.56°C at 08:33:06 on 11.06.2020\n",
      "last temperature measured was 15.49°C at 08:43:16 on 11.06.2020\n",
      "last temperature measured was 15.49°C at 08:43:16 on 11.06.2020\n"
     ]
    }
   ],
   "source": [
    "# Read the data every minute and print the result on the console\n",
    "while True:\n",
    "    try:\n",
    "        printTemperature() # use function from previous exercise above\n",
    "        time.sleep(60)\n",
    "    except Exception as e:\n",
    "        print ('An error occurred', str(e))\n",
    "        break\n"
   ]
  },
  {
   "cell_type": "code",
   "execution_count": null,
   "metadata": {},
   "outputs": [],
   "source": []
  }
 ],
 "metadata": {
  "kernelspec": {
   "display_name": "Python 3",
   "language": "python",
   "name": "python3"
  },
  "language_info": {
   "codemirror_mode": {
    "name": "ipython",
    "version": 3
   },
   "file_extension": ".py",
   "mimetype": "text/x-python",
   "name": "python",
   "nbconvert_exporter": "python",
   "pygments_lexer": "ipython3",
   "version": "3.7.6"
  }
 },
 "nbformat": 4,
 "nbformat_minor": 4
}
