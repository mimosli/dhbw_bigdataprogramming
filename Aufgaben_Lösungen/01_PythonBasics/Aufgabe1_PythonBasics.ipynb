{
 "cells": [
  {
   "cell_type": "markdown",
   "metadata": {},
   "source": [
    "## Exercise 1: Tuples\n",
    "\n",
    "1. Find out the position of a letter in the alphabet (e.g. a=1, z=26)?\n",
    "\n",
    "Hint: ord() function returns the Unicode code point for a one-character string\n",
    "\n",
    "Hint: chr() function returns a Unicode string of one character with ordinal i for 0<= i <= 0x10ffff."
   ]
  },
  {
   "cell_type": "code",
   "execution_count": 1,
   "metadata": {},
   "outputs": [],
   "source": [
    "# first letter in alphabet\n",
    "start = ord('a')\n",
    "\n",
    "# create an array of tuples. Each tuple consists of a letter and its position\n",
    "# e.g. ('a', 1)\n",
    "\n",
    "\n",
    "# define lookup dict from the array\n",
    "\n",
    "\n",
    "# test it with letter a, c and z\n"
   ]
  },
  {
   "cell_type": "markdown",
   "metadata": {},
   "source": [
    "## Exercise 2: String\n",
    "\n",
    "x = “Welcome to TVD!”\n",
    "\n",
    "1. Locate “T” in x and then print “TV” out of x\n",
    "1. Print “!” out of x\n",
    "1. Get the length of the string\n",
    "1. Replace “TVD” with “Trivadis” in x and assign it to a new variable!!!\n",
    "1. Is it possible to do x+ 2020?\n",
    "1. How to rewrite x so that we can format it afterwards with the year number? (example: “Welcome to TVD 2020!”)"
   ]
  },
  {
   "cell_type": "code",
   "execution_count": 2,
   "metadata": {},
   "outputs": [],
   "source": [
    "x = \"Welcome to TVD!\"\n",
    "\n",
    "# Locate “T” in x and then print “TV” out of x\n",
    "\n",
    "\n",
    "# Print “!” out of x\n",
    "\n",
    "\n",
    "# Get the length of the string\n",
    "\n",
    "\n",
    "# Replace “TVD” with “Trivadis” in x and assign it to a new variable!!!\n",
    "\n",
    "\n",
    "# Is it possible to do x+ 2020?\n",
    "\n",
    "# How to rewrite x so that we can format it afterwards with the year number? \n",
    "# (example: “Welcome to TVD 2020!”)\n"
   ]
  },
  {
   "cell_type": "markdown",
   "metadata": {},
   "source": [
    "## Exercise 3: openSenseMap\n",
    "\n",
    "1. Go to https://opensensemap.org/ and read the introduction for the sensor-api: https://docs.opensensemap.org/\n",
    "1. Read the last temperature value of a sensor (e.g. the one nearest to you) and print the temperature on the console (code can be written in jupyter or on a local Python environment)\n",
    "1. Read the data every minute and print the result on the console"
   ]
  },
  {
   "cell_type": "markdown",
   "metadata": {},
   "source": [
    "### 1. Go to  https://opensensemap.org/ and read the introduction for the sensor-api: https://docs.opensensemap.org/\n",
    "\n",
    "Link for documentation: https://docs.opensensemap.org/\n",
    "\n",
    "Documentation of the routes and methods \n",
    "- stations: called boxes or senseBoxes\n",
    "- measurements in the openSenseMap API\n",
    "\n",
    "get request: https://api.opensensemap.org/boxes/:senseBoxId?format=:format\n",
    "\n",
    "format: json or geojson\n",
    "senseBoxId: id of sensor\n",
    "\n",
    "in our example we use format=json & senseBoxId=5e4867a7de18a5001c419a45"
   ]
  },
  {
   "cell_type": "markdown",
   "metadata": {},
   "source": [
    "### 2. Read the last temperature value of a sensor"
   ]
  },
  {
   "cell_type": "code",
   "execution_count": 5,
   "metadata": {},
   "outputs": [],
   "source": [
    "# Read the last temperature value of a sensor (e.g. the one nearest to you) \n",
    "# and print the temperature on the console\n",
    "\n",
    "# imports\n",
    "import requests\n",
    "import json\n",
    "import time\n",
    "import datetime\n",
    "\n",
    "#def getTempAndUnit():\n",
    "\n",
    "\n",
    "#def printTemperature():\n"
   ]
  },
  {
   "cell_type": "markdown",
   "metadata": {},
   "source": [
    "### 3. Read the data every minute and print the result on the console"
   ]
  },
  {
   "cell_type": "code",
   "execution_count": 6,
   "metadata": {},
   "outputs": [],
   "source": [
    "# Read the data every minute and print the result on the console"
   ]
  }
 ],
 "metadata": {
  "kernelspec": {
   "display_name": "Python 3",
   "language": "python",
   "name": "python3"
  },
  "language_info": {
   "codemirror_mode": {
    "name": "ipython",
    "version": 3
   },
   "file_extension": ".py",
   "mimetype": "text/x-python",
   "name": "python",
   "nbconvert_exporter": "python",
   "pygments_lexer": "ipython3",
   "version": "3.7.6"
  }
 },
 "nbformat": 4,
 "nbformat_minor": 4
}
