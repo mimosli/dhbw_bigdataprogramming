{
 "cells": [
  {
   "cell_type": "code",
   "execution_count": 1,
   "metadata": {},
   "outputs": [],
   "source": [
    "import kafka_helpers\n",
    "import json"
   ]
  },
  {
   "cell_type": "code",
   "execution_count": null,
   "metadata": {},
   "outputs": [
    {
     "name": "stdout",
     "output_type": "stream",
     "text": [
      "updated record, new latest message from: 1591877788642\n",
      "updated record, new latest message from: 1591878398115\n",
      "updated record, new latest message from: 1591880232396\n",
      "updated record, new latest message from: 1591880537207\n",
      "updated record, new latest message from: 1591880846986\n",
      "updated record, new latest message from: 1591881152011\n",
      "updated record, new latest message from: 1591881458273\n",
      "updated record, new latest message from: 1591881762884\n",
      "updated record, new latest message from: 1591882068156\n",
      "updated record, new latest message from: 1591882375623\n",
      "updated record, new latest message from: 1591882680320\n",
      "updated record, new latest message from: 1591882985982\n",
      "updated record, new latest message from: 1591883291276\n",
      "updated record, new latest message from: 1591883595443\n",
      "updated record, new latest message from: 1591883900041\n",
      "updated record, new latest message from: 1591884207249\n",
      "updated record, new latest message from: 1591884514266\n",
      "updated record, new latest message from: 1591884818678\n",
      "updated record, new latest message from: 1591885123922\n",
      "updated record, new latest message from: 1591885431351\n",
      "updated record, new latest message from: 1591885735964\n"
     ]
    }
   ],
   "source": [
    "kafka_helpers.c.subscribe([kafka_helpers.raw_topic])\n",
    "\n",
    "last_timestamp = 0\n",
    "\n",
    "while True:\n",
    "    msg = kafka_helpers.c.poll(1.0)\n",
    "\n",
    "    if msg is None:\n",
    "        continue\n",
    "    if msg.error():\n",
    "        print(\"Consumer error: {}\".format(msg.error()))\n",
    "        continue\n",
    "    \n",
    "    data = json.loads(msg.value().decode('utf-8'))\n",
    "    \n",
    "    # we are only interested in new messages\n",
    "    if last_timestamp < data['timestamp']:\n",
    "        last_timestamp = data['timestamp']\n",
    "        kafka_helpers.p.poll(0)\n",
    "        kafka_helpers.p.produce(kafka_helpers.filtered_topic, json.dumps(data).encode('utf-8'), callback=kafka_helpers.delivery_report)\n",
    "        kafka_helpers.p.flush()\n",
    "        print(\"updated record, new latest message from:\", last_timestamp)\n",
    "    \n",
    "kafka_helpers.c.close()"
   ]
  },
  {
   "cell_type": "code",
   "execution_count": null,
   "metadata": {},
   "outputs": [],
   "source": []
  }
 ],
 "metadata": {
  "kernelspec": {
   "display_name": "Python 3",
   "language": "python",
   "name": "python3"
  },
  "language_info": {
   "codemirror_mode": {
    "name": "ipython",
    "version": 3
   },
   "file_extension": ".py",
   "mimetype": "text/x-python",
   "name": "python",
   "nbconvert_exporter": "python",
   "pygments_lexer": "ipython3",
   "version": "3.7.3"
  }
 },
 "nbformat": 4,
 "nbformat_minor": 4
}
